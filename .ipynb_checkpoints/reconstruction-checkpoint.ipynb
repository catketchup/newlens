{
 "cells": [
  {
   "cell_type": "code",
   "execution_count": 57,
   "metadata": {
    "autoscroll": false,
    "collapsed": false,
    "ein.hycell": false,
    "ein.tags": "worksheet-0",
    "slideshow": {
     "slide_type": "-"
    }
   },
   "outputs": [
    {
     "data": {
      "text/plain": [
       "<module 'plot_ps' from '/home/ketchup/Dropbox/cosmology/lensing/newlens/plot_ps.py'>"
      ]
     },
     "execution_count": 57,
     "metadata": {},
     "output_type": "execute_result"
    }
   ],
   "source": [
    "from healpy import sphtfunc, visufunc, fitsfunc\n",
    "from pixell import curvedsky, enmap, enplot, utils\n",
    "import importlib\n",
    "import numpy as np\n",
    "import matplotlib.pyplot as plt\n",
    "import path\n",
    "import load_data\n",
    "import noise_model\n",
    "import ipdb\n",
    "import reconstruction_noise\n",
    "from pixell import curvedsky, enmap, enplot, utils, lensing\n",
    "import plot_ps\n",
    "from astropy.io import fits\n",
    "import os\n",
    "importlib.reload(plot_ps)"
   ]
  },
  {
   "cell_type": "code",
   "execution_count": 58,
   "metadata": {
    "autoscroll": false,
    "collapsed": false,
    "ein.hycell": false,
    "ein.tags": "worksheet-0",
    "slideshow": {
     "slide_type": "-"
    }
   },
   "outputs": [],
   "source": [
    "nside = 600\n",
    "lmax = 1000\n",
    "lmin = 2\n",
    "ls = np.arange(0, lmax + 1)\n",
    "nlev_t = 1.  # telmperature noise level, in uk.arclmin\n",
    "nlev_p = np.sqrt(2)*nlev_t\n",
    "bealm_fwhlm = 2.\n",
    "\n",
    "noise = noise_model.noise(bealm_fwhlm, lmax, nlev_t, nlev_p)\n",
    "nltt = noise.tt()\n",
    "nlee = noise.ee()\n",
    "nlbb = noise.bb()"
   ]
  },
  {
   "cell_type": "code",
   "execution_count": 59,
   "metadata": {
    "autoscroll": false,
    "collapsed": false,
    "ein.hycell": false,
    "ein.tags": "worksheet-0",
    "slideshow": {
     "slide_type": "-"
    }
   },
   "outputs": [],
   "source": [
    "class rec_TT:\n",
    "    \"\"\" using TT estimator to reconstruct phi_lm and phi_cl using healpy \"\"\"\n",
    "\n",
    "    def __init__(self, *args):\n",
    "        \"\"\"input spectra\"\"\"\n",
    "        self.lmin = args[0]\n",
    "        self.lmax = args[1]\n",
    "        self.nside = args[2]\n",
    "        \n",
    "        self.ul_cl = load_data.unlensed(self.lmin, self.lmax, 'TT').spectra()\n",
    "        \n",
    "        self.alm = fitsfunc.read_alm('obs_lm.fits')\n",
    "        self.obs_cl = sphtfunc.alm2cl(self.alm)\n",
    "        self.norm = reconstruction_noise.TT(self.lmin, self.lmax, bealm_fwhlm,\n",
    "                                            nlev_t, nlev_p).noise()\n",
    "    def factor(self):\n",
    "        ell = np.arange(self.lmin, self.lmax + 1)\n",
    "        return ell * (ell + 1)\n",
    "    \n",
    "    def weight(self):\n",
    "        ell = np.arange(self.lmin, self.lmax + 1)\n",
    "\n",
    "        cl1 = 1 / self.obs_cl[ell]\n",
    "        alm1 = sphtfunc.almxfl(self.alm, cl1)\n",
    "        map1 = sphtfunc.alm2map(alm1, self.nside)\n",
    "\n",
    "        cl2 = self.ul_cl[ell] / self.obs_cl[ell]\n",
    "        alm2 = sphtfunc.almxfl(self.alm, cl2)\n",
    "        map2 = sphtfunc.alm2map(alm2, self.nside)\n",
    "\n",
    "        ret_lm = sphtfunc.almxfl(\n",
    "            sphtfunc.map2alm(map1 * map2, lmax=self.lmax), 1/2 * self.factor())\n",
    "        return ret_lm\n",
    "\n",
    "    \n",
    "    def d_lm(self):\n",
    "        ell = np.arange(self.lmin, self.lmax + 1)\n",
    "        ret_alm = sphtfunc.almxfl(self.weight(), self.norm[ell]/(np.sqrt(self.factor())))\n",
    "        return ret_alm\n",
    "\n",
    "    def cl_dd(self):\n",
    "        ell = np.arange(self.lmin, self.lmax + 1)\n",
    "        return sphtfunc.alm2cl(self.d_lm())\n"
   ]
  },
  {
   "cell_type": "code",
   "execution_count": 66,
   "metadata": {
    "autoscroll": false,
    "collapsed": false,
    "ein.hycell": false,
    "ein.tags": "worksheet-0",
    "slideshow": {
     "slide_type": "-"
    }
   },
   "outputs": [
    {
     "name": "stdout",
     "output_type": "stream",
     "text": [
      "Sigma is 0.000000 arcmin (0.000000 rad) \n",
      "-> fwhm is 0.000000 arcmin\n",
      "Sigma is 0.000000 arcmin (0.000000 rad) \n",
      "-> fwhm is 0.000000 arcmin\n"
     ]
    },
    {
     "data": {
      "image/png": "[encoded data removed]",
      "text/plain": [
       "<Figure size 432x288 with 1 Axes>"
      ]
     },
     "metadata": {},
     "output_type": "display_data"
    }
   ],
   "source": [
    "Rec_TT = rec_TT(lmin, lmax, nside)\n",
    "Dl_dd = (ls*(ls+1))[lmin:lmax-1]*Rec_TT.cl_dd()[lmin:lmax-1]/(2*np.pi)\n",
    "Dl_noise_TT = (ls*(ls+1))[lmin:lmax-1]*reconstruction_noise.TT(lmin, lmax, bealm_fwhlm,\n",
    "                                            nlev_t, nlev_p).noise()[lmin:lmax-1]/(2*np.pi)\n",
    "Dl_noise_EB = (ls*(ls+1))[lmin:lmax-1]*reconstruction_noise.EB(lmin, lmax, bealm_fwhlm, nlev_t, nlev_p).noise()[lmin:lmax-1]/(2*np.pi)\n",
    "\n",
    "plt.plot(ls[lmin:lmax-1], Dl_dd)\n",
    "#plt.plot(ls[lmin:lmax-1], Dl_noise_EB)\n",
    "plt.plot(ls[lmin:lmax-1], Dl_noise_TT)\n",
    "plt.xscale('log')\n",
    "plt.yscale('log')\n",
    "plt.legend(['Dl_dd+noise','Dl_noise_TT'])\n",
    "plt.show()"
   ]
  },
  {
   "cell_type": "code",
   "execution_count": 64,
   "metadata": {
    "autoscroll": false,
    "collapsed": false,
    "ein.hycell": false,
    "ein.tags": "worksheet-0",
    "slideshow": {
     "slide_type": "-"
    }
   },
   "outputs": [
    {
     "data": {
      "image/png": "[encoded data removed]",
      "text/plain": [
       "<Figure size 432x288 with 1 Axes>"
      ]
     },
     "metadata": {},
     "output_type": "display_data"
    }
   ],
   "source": [
    "plt.plot(ls[lmin:lmax-1], Dl_dd - Dl_noise_TT)\n",
    "plt.xscale('log')\n",
    "plt.yscale('log')\n",
    "plt.show()"
   ]
  },
  {
   "cell_type": "code",
   "execution_count": 61,
   "metadata": {
    "autoscroll": false,
    "collapsed": false,
    "ein.hycell": false,
    "ein.tags": "worksheet-0",
    "slideshow": {
     "slide_type": "-"
    }
   },
   "outputs": [],
   "source": []
  }
 ],
 "metadata": {
  "kernelspec": {
   "argv": [
    "/home/ketchup/tools/anaconda3/bin/python",
    "-m",
    "ipykernel_launcher",
    "-f",
    "{connection_file}"
   ],
   "display_name": "Python 3",
   "env": null,
   "interrupt_mode": "signal",
   "language": "python",
   "metadata": null,
   "name": "python3"
  },
  "language_info": {
   "codemirror_mode": {
    "name": "ipython",
    "version": 3
   },
   "file_extension": ".py",
   "mimetype": "text/x-python",
   "name": "python",
   "nbconvert_exporter": "python",
   "pygments_lexer": "ipython3",
   "version": "3.7.3"
  },
  "name": "reconstruction.ipynb"
 },
 "nbformat": 4,
 "nbformat_minor": 2
}
