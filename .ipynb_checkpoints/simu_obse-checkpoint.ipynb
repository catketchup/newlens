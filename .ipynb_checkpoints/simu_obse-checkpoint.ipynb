{
 "cells": [
  {
   "cell_type": "code",
   "execution_count": 1,
   "metadata": {
    "autoscroll": false,
    "collapsed": false,
    "ein.hycell": false,
    "ein.tags": "worksheet-0",
    "slideshow": {
     "slide_type": "-"
    }
   },
   "outputs": [
    {
     "data": {
      "text/plain": [
       "<module 'plot_ps' from '/home/ketchup/Dropbox/cosmology/lensing/newlens/plot_ps.py'>"
      ]
     },
     "execution_count": 1,
     "metadata": {},
     "output_type": "execute_result"
    }
   ],
   "source": [
    "from healpy import sphtfunc, visufunc, fitsfunc\n",
    "from pixell import curvedsky, enmap, enplot, utils\n",
    "import importlib\n",
    "import numpy as np\n",
    "import matplotlib.pyplot as plt\n",
    "import path\n",
    "import load_data\n",
    "import noise_model\n",
    "import ipdb\n",
    "import reconstruction_noise\n",
    "from pixell import curvedsky, enmap, enplot, utils, lensing\n",
    "import plot_ps\n",
    "from astropy.io import fits\n",
    "import os\n",
    "importlib.reload(plot_ps)"
   ]
  },
  {
   "cell_type": "code",
   "execution_count": 2,
   "metadata": {
    "autoscroll": false,
    "collapsed": false,
    "ein.hycell": false,
    "ein.tags": "worksheet-0",
    "slideshow": {
     "slide_type": "-"
    }
   },
   "outputs": [],
   "source": [
    "nside = 900\n",
    "lmax = 2000\n",
    "lmin = 2\n",
    "ls = np.arange(0, lmax)\n",
    "nlev_t = 27  # telmperature noise level, in uk.arclmin\n",
    "nlev_p = np.sqrt(2) * 40\n",
    "bealm_fwhlm = 7\n",
    "\n",
    "noise = noise_model.noise(bealm_fwhlm, lmax, nlev_t, nlev_p)\n",
    "nltt = noise.tt()\n",
    "nlee = noise.ee()\n",
    "nlbb = noise.bb()"
   ]
  },
  {
   "cell_type": "code",
   "execution_count": 3,
   "metadata": {
    "autoscroll": false,
    "collapsed": false,
    "ein.hycell": false,
    "ein.tags": "worksheet-0",
    "slideshow": {
     "slide_type": "-"
    }
   },
   "outputs": [],
   "source": [
    "shape, wcs = enmap.fullsky_geometry(res=20 * utils.arcmin, proj='car')"
   ]
  },
  {
   "cell_type": "code",
   "execution_count": 4,
   "metadata": {
    "autoscroll": false,
    "collapsed": false,
    "ein.hycell": false,
    "ein.tags": "worksheet-0",
    "slideshow": {
     "slide_type": "-"
    }
   },
   "outputs": [],
   "source": [
    "phi_lm_input = fitsfunc.read_alm('../fullskyPhi_alm_00000.fits')\n",
    "phi_lm_input = phi_lm_input.astype(np.cdouble)\n",
    "Cl_phi_input = sphtfunc.alm2cl(phi_lm_input)"
   ]
  },
  {
   "cell_type": "code",
   "execution_count": 5,
   "metadata": {
    "autoscroll": false,
    "collapsed": false,
    "ein.hycell": false,
    "ein.tags": "worksheet-0",
    "slideshow": {
     "slide_type": "-"
    }
   },
   "outputs": [],
   "source": [
    "Cl_dd_input = (ls*(ls+1))*Cl_phi_input[0:lmax]\n",
    "Dl_dd_input = (ls*(ls+1))*Cl_dd_input/(2*np.pi)"
   ]
  },
  {
   "cell_type": "code",
   "execution_count": 6,
   "metadata": {
    "autoscroll": false,
    "collapsed": false,
    "ein.hycell": false,
    "ein.tags": "worksheet-0",
    "slideshow": {
     "slide_type": "-"
    }
   },
   "outputs": [
    {
     "data": {
      "image/png": "[encoded data removed]",
      "text/plain": [
       "<Figure size 432x288 with 1 Axes>"
      ]
     },
     "metadata": {},
     "output_type": "display_data"
    }
   ],
   "source": [
    "plt.plot(ls[lmin:lmax], Dl_dd_input[lmin:lmax])\n",
    "plt.xscale('log')\n",
    "plt.yscale('log')\n",
    "plt.legend(['Dl_dd_input'])\n",
    "plt.show()"
   ]
  },
  {
   "cell_type": "code",
   "execution_count": 7,
   "metadata": {
    "autoscroll": false,
    "collapsed": false,
    "ein.hycell": false,
    "ein.tags": "worksheet-0",
    "slideshow": {
     "slide_type": "-"
    }
   },
   "outputs": [],
   "source": [
    "Cl_TT_unlsd = load_data.unlensed(lmin,lmax,'TT').spectra()[0:lmax]\n",
    "Dl_TT_unlsd = (ls*(ls+1))*Cl_TT_unlsd/(2*np.pi)\n",
    "\n",
    "lm_T_lsd = fitsfunc.read_alm('../fullskyLensedCMB_alm_set00_00000.fits')\n",
    "lm_T_lsd = lm_T_lsd.astype(np.cdouble)\n",
    "Cl_TT_lsd = sphtfunc.alm2cl(lm_T_lsd)[0:lmax]\n",
    "Dl_TT_lsd = (ls*(ls+1))*Cl_TT_unlsd/(2*np.pi)"
   ]
  },
  {
   "cell_type": "code",
   "execution_count": 8,
   "metadata": {
    "autoscroll": false,
    "collapsed": false,
    "ein.hycell": false,
    "ein.tags": "worksheet-0",
    "slideshow": {
     "slide_type": "-"
    }
   },
   "outputs": [
    {
     "data": {
      "image/png": "[encoded data removed]",
      "text/plain": [
       "<Figure size 432x288 with 1 Axes>"
      ]
     },
     "metadata": {},
     "output_type": "display_data"
    }
   ],
   "source": [
    "plt.plot(ls[lmin:lmax], Dl_TT_unlsd[lmin:lmax])\n",
    "plt.plot(ls[lmin:lmax], Dl_TT_lsd[lmin:lmax])\n",
    "plt.legend(['Dl_unlensed', 'Dl_lensed'])\n",
    "plt.xscale('log')\n",
    "plt.yscale('log')\n",
    "plt.show()"
   ]
  },
  {
   "cell_type": "code",
   "execution_count": 9,
   "metadata": {
    "autoscroll": false,
    "collapsed": false,
    "ein.hycell": false,
    "ein.tags": "worksheet-0",
    "slideshow": {
     "slide_type": "-"
    }
   },
   "outputs": [],
   "source": [
    "# now I need to generate a observed map\n",
    "# Beam\n",
    "def gauss_beam(ell, fwhm):\n",
    "    tht_fwhm = np.deg2rad(fwhm/60)\n",
    "    return np.exp(-(tht_fwhm**2.)*(ell**2.)/(16.*np.log(2.)))"
   ]
  },
  {
   "cell_type": "code",
   "execution_count": 10,
   "metadata": {
    "autoscroll": false,
    "collapsed": false,
    "ein.hycell": false,
    "ein.tags": "worksheet-0",
    "slideshow": {
     "slide_type": "-"
    }
   },
   "outputs": [],
   "source": [
    "lbeam=gauss_beam(ls, bealm_fwhlm)"
   ]
  },
  {
   "cell_type": "code",
   "execution_count": 11,
   "metadata": {
    "autoscroll": false,
    "collapsed": false,
    "ein.hycell": false,
    "ein.tags": "worksheet-0",
    "slideshow": {
     "slide_type": "-"
    }
   },
   "outputs": [],
   "source": [
    "def filter_map(lm_lensed, lbeam):\n",
    "    lmmap_filtered = sphtfunc.almxfl(lm_lensed, lbeam)\n",
    "    return lmmap_filtered"
   ]
  },
  {
   "cell_type": "code",
   "execution_count": 12,
   "metadata": {
    "autoscroll": false,
    "collapsed": false,
    "ein.hycell": false,
    "ein.tags": "worksheet-0",
    "slideshow": {
     "slide_type": "-"
    }
   },
   "outputs": [],
   "source": [
    "lm_T_beamed = filter_map(lm_T_lsd,lbeam)"
   ]
  },
  {
   "cell_type": "code",
   "execution_count": 13,
   "metadata": {
    "autoscroll": false,
    "collapsed": false,
    "ein.hycell": false,
    "ein.tags": "worksheet-0",
    "slideshow": {
     "slide_type": "-"
    }
   },
   "outputs": [],
   "source": [
    "Cl_TT_beamed = sphtfunc.alm2cl(lm_T_beamed)[0: lmax]\n",
    "Dl_TT_beamed = (ls*(ls+1))*Cl_TT_beamed/(2*np.pi)"
   ]
  },
  {
   "cell_type": "code",
   "execution_count": 14,
   "metadata": {
    "autoscroll": false,
    "collapsed": false,
    "ein.hycell": false,
    "ein.tags": "worksheet-0",
    "slideshow": {
     "slide_type": "-"
    }
   },
   "outputs": [
    {
     "data": {
      "image/png": "[encoded data removed]",
      "text/plain": [
       "<Figure size 432x288 with 1 Axes>"
      ]
     },
     "metadata": {},
     "output_type": "display_data"
    }
   ],
   "source": [
    "plt.plot(ls[lmin:lmax], Dl_TT_lsd[lmin:lmax])\n",
    "plt.plot(ls[lmin:lmax], Dl_TT_beamed[lmin:lmax])\n",
    "plt.legend(['Dl_lensed','Dl_beamed'])\n",
    "plt.xscale('log')\n",
    "plt.yscale('log')\n",
    "plt.show()"
   ]
  },
  {
   "cell_type": "code",
   "execution_count": 15,
   "metadata": {
    "autoscroll": false,
    "collapsed": false,
    "ein.hycell": false,
    "ein.tags": "worksheet-0",
    "slideshow": {
     "slide_type": "-"
    }
   },
   "outputs": [
    {
     "name": "stdout",
     "output_type": "stream",
     "text": [
      "Sigma is 0.000000 arcmin (0.000000 rad) \n",
      "-> fwhm is 0.000000 arcmin\n"
     ]
    },
    {
     "name": "stdout",
     "output_type": "stream",
     "text": [
      "Sigma is 0.000000 arcmin (0.000000 rad) \n",
      "-> fwhm is 0.000000 arcmin\n"
     ]
    }
   ],
   "source": [
    "map_T_lsd = sphtfunc.alm2map(lm_T_lsd, nside)\n",
    "map_T_beamed = sphtfunc.alm2map(lm_T_beamed, nside)"
   ]
  },
  {
   "cell_type": "code",
   "execution_count": 16,
   "metadata": {
    "autoscroll": false,
    "collapsed": false,
    "ein.hycell": false,
    "ein.tags": "worksheet-0",
    "slideshow": {
     "slide_type": "-"
    }
   },
   "outputs": [
    {
     "name": "stderr",
     "output_type": "stream",
     "text": [
      "/home/ketchup/tools/anaconda3/lib/python3.7/site-packages/healpy/sphtfunc.py:400: FutureChangeWarning: The order of the input cl's will change in a future release.\n",
      "Use new=True keyword to start using the new order.\n",
      "See documentation of healpy.synalm.\n",
      "  category=FutureChangeWarning,\n"
     ]
    },
    {
     "name": "stdout",
     "output_type": "stream",
     "text": [
      "Sigma is 0.000000 arcmin (0.000000 rad) \n",
      "-> fwhm is 0.000000 arcmin\n"
     ]
    }
   ],
   "source": [
    "# Noise\n",
    "ell = np.arange(0, lmax+1)\n",
    "noise_uk_arcmin = nlev_t\n",
    "\n",
    "Cl_noise_TT = (noise_uk_arcmin*np.pi/180./60.)**2*np.ones(ell.shape)\n",
    "\n",
    "map_noise_T = sphtfunc.synfast(Cl_noise_TT, nside)"
   ]
  },
  {
   "cell_type": "code",
   "execution_count": 17,
   "metadata": {
    "autoscroll": false,
    "collapsed": false,
    "ein.hycell": false,
    "ein.tags": "worksheet-0",
    "slideshow": {
     "slide_type": "-"
    }
   },
   "outputs": [],
   "source": [
    "map_T_obs_sim = map_T_beamed + map_noise_T"
   ]
  },
  {
   "cell_type": "code",
   "execution_count": 18,
   "metadata": {
    "autoscroll": false,
    "collapsed": false,
    "ein.hycell": false,
    "ein.tags": "worksheet-0",
    "slideshow": {
     "slide_type": "-"
    }
   },
   "outputs": [],
   "source": [
    "lm_T_obs_sim = sphtfunc.map2alm(map_T_obs_sim)"
   ]
  },
  {
   "cell_type": "code",
   "execution_count": 30,
   "metadata": {
    "autoscroll": false,
    "collapsed": false,
    "ein.hycell": false,
    "ein.tags": "worksheet-0",
    "slideshow": {
     "slide_type": "-"
    }
   },
   "outputs": [],
   "source": [
    "if os.path.exists('../lm_obs.fits'):\n",
    "    os.remove('../lm_obs.fits')\n",
    "fitsfunc.write_alm('../lm_obs.fits', lm_T_obs_sim)"
   ]
  },
  {
   "cell_type": "code",
   "execution_count": 31,
   "metadata": {
    "autoscroll": false,
    "collapsed": false,
    "ein.hycell": false,
    "ein.tags": "worksheet-0",
    "slideshow": {
     "slide_type": "-"
    }
   },
   "outputs": [
    {
     "data": {
      "image/png": "[encoded data removed]",
      "text/plain": [
       "<Figure size 432x288 with 1 Axes>"
      ]
     },
     "metadata": {},
     "output_type": "display_data"
    }
   ],
   "source": [
    "lm_T_obs_read = fitsfunc.read_alm('../lm_obs.fits')\n",
    "Cl_TT_obs_read = sphtfunc.alm2cl(lm_T_obs_read)[0:lmax]\n",
    "Dl_TT_obs_read = (ls*(ls+1)*Cl_TT_obs_read)/(2*np.pi)\n",
    "\n",
    "plt.plot(ls[lmin:lmax], Dl_TT_unlsd[lmin:lmax])\n",
    "plt.plot(ls[lmin:lmax], Dl_TT_obs_read[lmin:lmax])\n",
    "plt.legend(['Dl_unlensed','Dl_obs_read'])\n",
    "plt.xscale('log')\n",
    "plt.yscale('log')\n",
    "plt.show()"
   ]
  },
  {
   "cell_type": "code",
   "execution_count": 32,
   "metadata": {
    "autoscroll": false,
    "collapsed": false,
    "ein.hycell": false,
    "ein.tags": "worksheet-0",
    "slideshow": {
     "slide_type": "-"
    }
   },
   "outputs": [],
   "source": [
    "lm_T_obs = filter_map(lm_T_obs_read, 1/lbeam) # divided by bl\n",
    "Cl_TT_obs = sphtfunc.alm2cl(lm_T_obs)[0:lmax]\n",
    "Dl_TT_obs = (ls*(ls+1))*Cl_TT_obs/(2*np.pi)"
   ]
  },
  {
   "cell_type": "code",
   "execution_count": 34,
   "metadata": {
    "autoscroll": false,
    "collapsed": false,
    "ein.hycell": false,
    "ein.tags": "worksheet-0",
    "slideshow": {
     "slide_type": "-"
    }
   },
   "outputs": [
    {
     "data": {
      "image/png": "[encoded data removed]",
      "text/plain": [
       "<Figure size 432x288 with 1 Axes>"
      ]
     },
     "metadata": {},
     "output_type": "display_data"
    }
   ],
   "source": [
    "Cl_TT_theory_noise = noise_model.noise(bealm_fwhlm,lmax,nlev_t,nlev_p).tt()[0:lmax]\n",
    "Dl_TT_theory_noise = (ls*(ls+1))*Cl_TT_theory_noise/(2*np.pi)\n",
    "plt.plot(ls[lmin:lmax], Dl_TT_obs[lmin:lmax])\n",
    "plt.plot(ls[lmin:lmax], (Dl_TT_unlsd + Dl_TT_theory_noise)[lmin:lmax])\n",
    "plt.legend(['obs_sim','obs_theory'])\n",
    "plt.xscale('log')\n",
    "plt.yscale('log')"
   ]
  },
  {
   "cell_type": "code",
   "execution_count": 54,
   "metadata": {
    "autoscroll": false,
    "collapsed": false,
    "ein.hycell": false,
    "ein.tags": "worksheet-0",
    "slideshow": {
     "slide_type": "-"
    }
   },
   "outputs": [],
   "source": [
    "# reconstruction\n",
    "class rec_TT:\n",
    "    \"\"\" using TT estimator to reconstruct phi_lm and phi_cl using healpy \"\"\"\n",
    "\n",
    "    def __init__(self, *args):\n",
    "        \"\"\"input spectra\"\"\"\n",
    "        self.lmax = args[0]\n",
    "        self.nside = args[1]\n",
    "        self.Cl_unlsd = args[2][0:self.lmax]\n",
    "\n",
    "        self.lm_obs = args[3]\n",
    "        self.Cl_obs = args[4][0:self.lmax]\n",
    "        self.norm = args[5][0:self.lmax]\n",
    "\n",
    "    def factor(self):\n",
    "        ell = np.arange(0, self.lmax)\n",
    "        return ell * (ell + 1)\n",
    "    \n",
    "    def weight1(self):\n",
    "        ell = np.arange(0, self.lmax)\n",
    "\n",
    "        lm_1 = sphtfunc.almxfl(self.lm_obs, (-ell*(ell+1)/self.Cl_obs))\n",
    "        map1 = sphtfunc.alm2map(lm_1, self.nside)\n",
    "\n",
    "        lm_2 = sphtfunc.almxfl(self.lm_obs, self.Cl_unlsd/self.Cl_obs)\n",
    "        map2 = sphtfunc.alm2map(lm_2, self.nside)\n",
    "\n",
    "        lm_ret = sphtfunc.map2alm(map1*map2, lmax=self.lmax)\n",
    "        return lm_ret\n",
    "\n",
    "    def weight2(self):\n",
    "        ell = np.arange(0, self.lmax)\n",
    "\n",
    "        lm_1 = sphtfunc.almxfl(self.lm_obs, 1/self.Cl_obs)\n",
    "        map1 = sphtfunc.alm2map(lm_1, self.nside)\n",
    "\n",
    "        lm_2 = sphtfunc.almxfl(self.lm_obs, (ell*(ell+1)*self.Cl_unlsd/self.Cl_obs))\n",
    "        map2 = sphtfunc.alm2map(lm_2, self.nside)\n",
    "\n",
    "        lm_ret = sphtfunc.map2alm(map1*map2, lmax=self.lmax)\n",
    "        return lm_ret\n",
    "    \n",
    "    def weight3(self):\n",
    "        ell = np.arange(0, self.lmax)\n",
    "\n",
    "        lm_1 = sphtfunc.almxfl(self.lm_obs, 1/self.Cl_obs)\n",
    "        map1 = sphtfunc.alm2map(lm_1, self.nside)\n",
    "\n",
    "        lm_2 = sphtfunc.almxfl(self.lm_obs, self.Cl_unlsd/self.Cl_obs)\n",
    "        map2 = sphtfunc.alm2map(lm_2, self.nside)\n",
    "\n",
    "        lm_ret = sphtfunc.almxfl(\n",
    "            sphtfunc.map2alm(map1 * map2, lmax=self.lmax), self.factor())\n",
    "        return lm_ret\n",
    "\n",
    "\n",
    "    def lm_d(self):\n",
    "        ell = np.arange(0, self.lmax)\n",
    "        lm_d = sphtfunc.almxfl(self.weight1()+self.weight2()+self.weight3(), 1/2*self.norm[ell]/(np.sqrt(self.factor())))\n",
    "        return lm_d\n",
    "\n",
    "    def var_dd(self):\n",
    "        ell = np.arange(0, self.lmax)\n",
    "        return sphtfunc.alm2cl(self.lm_d())\n"
   ]
  },
  {
   "cell_type": "code",
   "execution_count": 55,
   "metadata": {
    "autoscroll": false,
    "collapsed": false,
    "ein.hycell": false,
    "ein.tags": "worksheet-0",
    "slideshow": {
     "slide_type": "-"
    }
   },
   "outputs": [],
   "source": [
    "Cl_rec_noise_TT = reconstruction_noise.TT(lmin,lmax,bealm_fwhlm,nlev_t,nlev_p).noise()[0:lmax]\n",
    "Dl_rec_noise_TT = (ls*(ls+1))*Cl_rec_noise_TT/(2*np.pi)\n",
    "Cl_rec_noise_EB = reconstruction_noise.EB(lmin,lmax,bealm_fwhlm,nlev_t,nlev_p).noise()[0:lmax]\n",
    "Dl_rec_noise_EB = (ls*(ls+1))*Cl_rec_noise_TT/(2*np.pi)"
   ]
  },
  {
   "cell_type": "code",
   "execution_count": 56,
   "metadata": {
    "autoscroll": false,
    "collapsed": false,
    "ein.hycell": false,
    "ein.tags": "worksheet-0",
    "slideshow": {
     "slide_type": "-"
    }
   },
   "outputs": [
    {
     "name": "stdout",
     "output_type": "stream",
     "text": [
      "Sigma is 0.000000 arcmin (0.000000 rad) \n",
      "-> fwhm is 0.000000 arcmin\n",
      "Sigma is 0.000000 arcmin (0.000000 rad) \n",
      "-> fwhm is 0.000000 arcmin\n"
     ]
    },
    {
     "name": "stdout",
     "output_type": "stream",
     "text": [
      "Sigma is 0.000000 arcmin (0.000000 rad) \n",
      "-> fwhm is 0.000000 arcmin\n"
     ]
    },
    {
     "name": "stdout",
     "output_type": "stream",
     "text": [
      "Sigma is 0.000000 arcmin (0.000000 rad) \n",
      "-> fwhm is 0.000000 arcmin\n"
     ]
    },
    {
     "name": "stdout",
     "output_type": "stream",
     "text": [
      "Sigma is 0.000000 arcmin (0.000000 rad) \n",
      "-> fwhm is 0.000000 arcmin\n"
     ]
    },
    {
     "name": "stdout",
     "output_type": "stream",
     "text": [
      "Sigma is 0.000000 arcmin (0.000000 rad) \n",
      "-> fwhm is 0.000000 arcmin\n"
     ]
    },
    {
     "name": "stderr",
     "output_type": "stream",
     "text": [
      "/home/ketchup/tools/anaconda3/lib/python3.7/site-packages/ipykernel_launcher.py:59: RuntimeWarning: invalid value encountered in true_divide\n"
     ]
    }
   ],
   "source": [
    "norm_TT = Cl_rec_noise_TT\n",
    "Rec_TT = rec_TT(lmax, nside, Cl_TT_unlsd, lm_T_obs, Cl_TT_obs, norm_TT)\n",
    "var_dd_TT = Rec_TT.var_dd()[0:lmax]\n",
    "Cl_dd_rec_TT = var_dd_TT - Cl_rec_noise_TT\n",
    "Dl_dd_rec_TT = (ls*(ls+1))*Cl_dd_rec_TT/(2*np.pi)"
   ]
  },
  {
   "cell_type": "code",
   "execution_count": 67,
   "metadata": {
    "autoscroll": false,
    "collapsed": false,
    "ein.hycell": false,
    "ein.tags": "worksheet-0",
    "slideshow": {
     "slide_type": "-"
    }
   },
   "outputs": [
    {
     "data": {
      "image/png": "[encoded data removed]",
      "text/plain": [
       "<Figure size 432x288 with 1 Axes>"
      ]
     },
     "metadata": {},
     "output_type": "display_data"
    }
   ],
   "source": [
    "plt.plot(ls[lmin:lmax], Dl_dd_input[lmin:lmax])\n",
    "plt.plot(ls[lmin:lmax], Dl_dd_rec_TT[lmin:lmax])\n",
    "#plt.plot(ls[lmin:lmax], Dl_rec_noise_TT[lmin:lmax])\n",
    "plt.legend(['Dl_dd_input','Dl_dd_rec'])\n",
    "plt.xscale('log')\n",
    "plt.yscale('log')\n",
    "plt.xlabel(r'$L$')\n",
    "#plt.ylabel(r'$[L[L+1] C_L / 2\\pi$')\n",
    "#plt.savefig('./figure/Dl_dd_rec.png')\n",
    "plt.show()"
   ]
  },
  {
   "cell_type": "code",
   "execution_count": 28,
   "metadata": {
    "autoscroll": false,
    "collapsed": false,
    "ein.hycell": false,
    "ein.tags": "worksheet-0",
    "slideshow": {
     "slide_type": "-"
    }
   },
   "outputs": [
    {
     "name": "stderr",
     "output_type": "stream",
     "text": [
      "/home/ketchup/tools/anaconda3/lib/python3.7/site-packages/numpy/core/_asarray.py:85: ComplexWarning: Casting complex values to real discards the imaginary part\n",
      "  return array(a, dtype, copy=False, order=order)\n"
     ]
    },
    {
     "data": {
      "image/png": "[encoded data removed]",
      "text/plain": [
       "<Figure size 432x288 with 1 Axes>"
      ]
     },
     "metadata": {},
     "output_type": "display_data"
    }
   ],
   "source": [
    "\n",
    "plt.plot(ls[lmin:lmax], Dl_rec_noise_TT[lmin:lmax])\n",
    "plt.plot(ls[lmin:lmax], Dl_rec_noise_EB[lmin:lmax])\n",
    "plt.legend(['Dl_rec_noise_TT','Dl_rec_noise_EB'])\n",
    "plt.xscale('log')\n",
    "plt.yscale('log')\n",
    "plt.show()"
   ]
  }
 ],
 "metadata": {
  "kernelspec": {
   "argv": [
    "/home/ketchup/tools/anaconda3/bin/python",
    "-m",
    "ipykernel_launcher",
    "-f",
    "{connection_file}"
   ],
   "display_name": "Python 3",
   "env": null,
   "interrupt_mode": "signal",
   "language": "python",
   "metadata": null,
   "name": "python3"
  },
  "language_info": {
   "codemirror_mode": {
    "name": "ipython",
    "version": 3
   },
   "file_extension": ".py",
   "mimetype": "text/x-python",
   "name": "python",
   "nbconvert_exporter": "python",
   "pygments_lexer": "ipython3",
   "version": "3.7.3"
  },
  "name": "simu_obse.ipynb"
 },
 "nbformat": 4,
 "nbformat_minor": 2
}
