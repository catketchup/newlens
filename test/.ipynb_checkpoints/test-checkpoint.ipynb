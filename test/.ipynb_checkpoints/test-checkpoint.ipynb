{
 "cells": [
  {
   "cell_type": "code",
   "execution_count": 2,
   "metadata": {
    "autoscroll": false,
    "collapsed": false,
    "ein.hycell": false,
    "ein.tags": "worksheet-0",
    "slideshow": {
     "slide_type": "-"
    }
   },
   "outputs": [],
   "source": [
    "import numpy as np\n",
    "import matplotlib.pyplot as plt\n",
    "import pandas as pd\n",
    "import scipy.interpolate"
   ]
  },
  {
   "cell_type": "code",
   "execution_count": 3,
   "metadata": {
    "autoscroll": false,
    "collapsed": false,
    "ein.hycell": false,
    "ein.tags": "worksheet-0",
    "slideshow": {
     "slide_type": "-"
    }
   },
   "outputs": [
    {
     "name": "stdout",
     "output_type": "stream",
     "text": [
      "[[2.59096495e+00 2.42010894e-07]\n",
      " [3.12746392e+00 2.38710833e-07]\n",
      " [3.90252913e+00 2.25176196e-07]\n",
      " [4.97869343e+00 2.12439497e-07]\n",
      " [6.56610302e+00 2.12821615e-07]\n",
      " [9.25435497e+00 2.10130943e-07]\n",
      " [1.18063427e+01 2.04263049e-07]\n",
      " [1.64568289e+01 2.04704021e-07]\n",
      " [2.14649939e+01 2.17695600e-07]\n",
      " [3.05898201e+01 2.11768636e-07]\n",
      " [4.12462638e+01 2.12180049e-07]\n",
      " [5.56150469e+01 2.15794792e-07]\n",
      " [7.41638570e+01 2.22761257e-07]\n",
      " [9.56685586e+01 2.36881813e-07]\n",
      " [1.33352143e+02 2.79831663e-07]\n",
      " [1.75870220e+02 3.25546018e-07]\n",
      " [2.09949761e+02 3.84185049e-07]\n",
      " [2.59096495e+02 4.27157624e-07]\n",
      " [3.37945100e+02 5.04389438e-07]\n",
      " [4.50657034e+02 5.52762677e-07]\n",
      " [5.74930548e+02 6.23984176e-07]\n",
      " [7.01703829e+02 6.73291369e-07]\n",
      " [8.19335059e+02 7.37226858e-07]\n",
      " [9.35737095e+02 8.19276164e-07]\n",
      " [1.09260086e+03 9.66709428e-07]\n",
      " [1.28996202e+03 1.09071752e-06]\n",
      " [1.40941361e+03 1.32549356e-06]\n",
      " [1.50620684e+03 1.51707305e-06]\n",
      " [1.68252505e+03 1.73684171e-06]\n",
      " [1.83832832e+03 1.90095147e-06]]\n",
      "float64\n"
     ]
    }
   ],
   "source": [
    "filename = '../data/hu_TT.csv'\n",
    "TT_hu =np.array(pd.read_csv(filename))\n",
    "print(TT_hu)\n",
    "print(TT_hu.dtype)"
   ]
  },
  {
   "cell_type": "code",
   "execution_count": 4,
   "metadata": {
    "autoscroll": false,
    "collapsed": false,
    "ein.hycell": false,
    "ein.tags": "worksheet-0",
    "slideshow": {
     "slide_type": "-"
    }
   },
   "outputs": [
    {
     "name": "stdout",
     "output_type": "stream",
     "text": [
      "[2.39494877e-07 2.24022601e-07 2.12444626e-07 ... 1.49885027e-06\n",
      " 1.50082954e-06 1.50280880e-06]\n"
     ]
    },
    {
     "data": {
      "image/png": "[encoded data removed]",
      "text/plain": [
       "<Figure size 432x288 with 1 Axes>"
      ]
     },
     "metadata": {},
     "output_type": "display_data"
    }
   ],
   "source": [
    "# test scipy.interpolate\n",
    "xnew = np.arange(3,1500,1)  \n",
    "f = scipy.interpolate.interp1d(TT_hu[0:,0], TT_hu[0:,1])\n",
    "ynew = f(xnew)\n",
    "print(ynew)\n",
    "plt.plot(xnew, ynew)\n",
    "plt.show()"
   ]
  },
  {
   "cell_type": "code",
   "execution_count": 36,
   "metadata": {
    "autoscroll": false,
    "collapsed": false,
    "ein.hycell": false,
    "ein.tags": "worksheet-0",
    "slideshow": {
     "slide_type": "-"
    }
   },
   "outputs": [
    {
     "name": "stdout",
     "output_type": "stream",
     "text": [
      "3\n",
      "6\n"
     ]
    }
   ],
   "source": [
    "# test class and class arguments\n",
    "lmax = 3000\n",
    "lmin = 2\n",
    "ls = np.arange(0, lmax+1)\n",
    "nlev_t = 27.  # temperature noise level, in uk.arcmin\n",
    "nlev_p = np.sqrt(2)*40\n",
    "beam_fwhm = 7\n",
    "\n",
    "class Class_test:\n",
    "    def __init__(self,*args):\n",
    "        self.first = args[0]\n",
    "        self.second = args[1]\n",
    "        self.third = args[2]\n",
    "        self.estimator = args[3]\n",
    "    def sum_two(self):\n",
    "        return self.first + self.second\n",
    "\n",
    "    def sum_three(self):\n",
    "        return self.sum_two() + self.third\n",
    "    \n",
    "\n",
    "instance = Class_test(1,2,3,'lensed')\n",
    "print(instance.sum_two())\n",
    "print(instance.sum_three())"
   ]
  },
  {
   "cell_type": "code",
   "execution_count": 30,
   "metadata": {
    "autoscroll": false,
    "collapsed": false,
    "ein.hycell": false,
    "ein.tags": "worksheet-0",
    "slideshow": {
     "slide_type": "-"
    }
   },
   "outputs": [
    {
     "name": "stdout",
     "output_type": "stream",
     "text": [
      "[0 1 2 3 4 5 6 7 8 9]\n",
      "[0. 0.]\n"
     ]
    }
   ],
   "source": [
    "arr1 = np.arange(0,10)\n",
    "print(arr1)\n",
    "arr2 = np.zeros(2)\n",
    "print(arr2)"
   ]
  }
 ],
 "metadata": {
  "kernelspec": {
   "display_name": "Python 3",
   "name": "python3"
  },
  "name": "test.ipynb"
 },
 "nbformat": 4,
 "nbformat_minor": 2
}
